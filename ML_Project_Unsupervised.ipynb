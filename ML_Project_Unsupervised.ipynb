{
  "metadata": {
    "kernelspec": {
      "language": "python",
      "display_name": "Python 3",
      "name": "python3"
    },
    "language_info": {
      "pygments_lexer": "ipython3",
      "nbconvert_exporter": "python",
      "version": "3.6.4",
      "file_extension": ".py",
      "codemirror_mode": {
        "name": "ipython",
        "version": 3
      },
      "name": "python",
      "mimetype": "text/x-python"
    },
    "kaggle": {
      "accelerator": "none",
      "dataSources": [
        {
          "sourceId": 7250132,
          "sourceType": "datasetVersion",
          "datasetId": 4200521
        }
      ],
      "isInternetEnabled": false,
      "language": "python",
      "sourceType": "notebook",
      "isGpuEnabled": false
    },
    "colab": {
      "provenance": [],
      "include_colab_link": true
    }
  },
  "nbformat_minor": 0,
  "nbformat": 4,
  "cells": [
    {
      "cell_type": "markdown",
      "metadata": {
        "id": "view-in-github",
        "colab_type": "text"
      },
      "source": [
        "<a href=\"https://colab.research.google.com/github/gulssumm/first_ML_project/blob/main/ML_Project_Unsupervised.ipynb\" target=\"_parent\"><img src=\"https://colab.research.google.com/assets/colab-badge.svg\" alt=\"Open In Colab\"/></a>"
      ]
    },
    {
      "source": [
        "\n",
        "# IMPORTANT: RUN THIS CELL IN ORDER TO IMPORT YOUR KAGGLE DATA SOURCES\n",
        "# TO THE CORRECT LOCATION (/kaggle/input) IN YOUR NOTEBOOK,\n",
        "# THEN FEEL FREE TO DELETE THIS CELL.\n",
        "# NOTE: THIS NOTEBOOK ENVIRONMENT DIFFERS FROM KAGGLE'S PYTHON\n",
        "# ENVIRONMENT SO THERE MAY BE MISSING LIBRARIES USED BY YOUR\n",
        "# NOTEBOOK.\n",
        "\n",
        "import os\n",
        "import sys\n",
        "from tempfile import NamedTemporaryFile\n",
        "from urllib.request import urlopen\n",
        "from urllib.parse import unquote, urlparse\n",
        "from urllib.error import HTTPError\n",
        "from zipfile import ZipFile\n",
        "import tarfile\n",
        "import shutil\n",
        "\n",
        "CHUNK_SIZE = 40960\n",
        "DATA_SOURCE_MAPPING = 'books-dataset:https%3A%2F%2Fstorage.googleapis.com%2Fkaggle-data-sets%2F4200521%2F7250132%2Fbundle%2Farchive.zip%3FX-Goog-Algorithm%3DGOOG4-RSA-SHA256%26X-Goog-Credential%3Dgcp-kaggle-com%2540kaggle-161607.iam.gserviceaccount.com%252F20240916%252Fauto%252Fstorage%252Fgoog4_request%26X-Goog-Date%3D20240916T101623Z%26X-Goog-Expires%3D259200%26X-Goog-SignedHeaders%3Dhost%26X-Goog-Signature%3Dac1bbcb7ede65f5ebf706c80d66ef2d9f8fbca0d552e037271e09d05f28a95a2bfc7e0818f0fa68d3ce40a3d57c6f60e1a0b6cebe6a466bfe8e791490c8759be230683053e1aeeba99349c11deca9eef33e639f70842d33bf366fce65ca20a8b61e59aa7f0c109a779a0285b99473658310d82ca46718d02a2b2a129facc5be791682984b9ab5a0ecbb4c070507db0355c85c3fb57e3583ba19e8e652b42a9205e6fd2007c6e456fef5d0b767c4b37e306e6dd82656de26c48dca393efe6b3a4aacb406bc687133e6b0932f6c4fb9dafd11230522ed6934ad88da29ad4464affd5ee0dc3affc0a98a220a2224aa3a02311a228926b6a25fe80ef92abb10e6914'\n",
        "\n",
        "KAGGLE_INPUT_PATH='/kaggle/input'\n",
        "KAGGLE_WORKING_PATH='/kaggle/working'\n",
        "KAGGLE_SYMLINK='kaggle'\n",
        "\n",
        "!umount /kaggle/input/ 2> /dev/null\n",
        "shutil.rmtree('/kaggle/input', ignore_errors=True)\n",
        "os.makedirs(KAGGLE_INPUT_PATH, 0o777, exist_ok=True)\n",
        "os.makedirs(KAGGLE_WORKING_PATH, 0o777, exist_ok=True)\n",
        "\n",
        "try:\n",
        "  os.symlink(KAGGLE_INPUT_PATH, os.path.join(\"..\", 'input'), target_is_directory=True)\n",
        "except FileExistsError:\n",
        "  pass\n",
        "try:\n",
        "  os.symlink(KAGGLE_WORKING_PATH, os.path.join(\"..\", 'working'), target_is_directory=True)\n",
        "except FileExistsError:\n",
        "  pass\n",
        "\n",
        "for data_source_mapping in DATA_SOURCE_MAPPING.split(','):\n",
        "    directory, download_url_encoded = data_source_mapping.split(':')\n",
        "    download_url = unquote(download_url_encoded)\n",
        "    filename = urlparse(download_url).path\n",
        "    destination_path = os.path.join(KAGGLE_INPUT_PATH, directory)\n",
        "    try:\n",
        "        with urlopen(download_url) as fileres, NamedTemporaryFile() as tfile:\n",
        "            total_length = fileres.headers['content-length']\n",
        "            print(f'Downloading {directory}, {total_length} bytes compressed')\n",
        "            dl = 0\n",
        "            data = fileres.read(CHUNK_SIZE)\n",
        "            while len(data) > 0:\n",
        "                dl += len(data)\n",
        "                tfile.write(data)\n",
        "                done = int(50 * dl / int(total_length))\n",
        "                sys.stdout.write(f\"\\r[{'=' * done}{' ' * (50-done)}] {dl} bytes downloaded\")\n",
        "                sys.stdout.flush()\n",
        "                data = fileres.read(CHUNK_SIZE)\n",
        "            if filename.endswith('.zip'):\n",
        "              with ZipFile(tfile) as zfile:\n",
        "                zfile.extractall(destination_path)\n",
        "            else:\n",
        "              with tarfile.open(tfile.name) as tarfile:\n",
        "                tarfile.extractall(destination_path)\n",
        "            print(f'\\nDownloaded and uncompressed: {directory}')\n",
        "    except HTTPError as e:\n",
        "        print(f'Failed to load (likely expired) {download_url} to path {destination_path}')\n",
        "        continue\n",
        "    except OSError as e:\n",
        "        print(f'Failed to load {download_url} to path {destination_path}')\n",
        "        continue\n",
        "\n",
        "print('Data source import complete.')\n"
      ],
      "metadata": {
        "id": "7DN3UQMuVWW7",
        "colab": {
          "base_uri": "https://localhost:8080/"
        },
        "outputId": "72b956b3-41ea-436a-edff-e91c28af1e00"
      },
      "cell_type": "code",
      "outputs": [
        {
          "output_type": "stream",
          "name": "stdout",
          "text": [
            "Downloading books-dataset, 55469565 bytes compressed\n",
            "[==================================================] 55469565 bytes downloaded\n",
            "Downloaded and uncompressed: books-dataset\n",
            "Data source import complete.\n"
          ]
        }
      ],
      "execution_count": 15
    },
    {
      "cell_type": "code",
      "source": [
        "# This Python 3 environment comes with many helpful analytics libraries installed\n",
        "# It is defined by the kaggle/python Docker image: https://github.com/kaggle/docker-python\n",
        "# For example, here's several helpful packages to load\n",
        "\n",
        "import numpy as np # linear algebra\n",
        "import pandas as pd # data processing, CSV file I/O (e.g. pd.read_csv)\n",
        "\n",
        "# Input data files are available in the read-only \"../input/\" directory\n",
        "# For example, running this (by clicking run or pressing Shift+Enter) will list all files under the input directory\n",
        "\n",
        "import os\n",
        "for dirname, _, filenames in os.walk('/kaggle/input'):\n",
        "    for filename in filenames:\n",
        "        print(os.path.join(dirname, filename))\n",
        "\n",
        "# You can write up to 20GB to the current directory (/kaggle/working/) that gets preserved as output when you create a version using \"Save & Run All\"\n",
        "# You can also write temporary files to /kaggle/temp/, but they won't be saved outside of the current session"
      ],
      "metadata": {
        "_uuid": "8f2839f25d086af736a60e9eeb907d3b93b6e0e5",
        "_cell_guid": "b1076dfc-b9ad-4769-8c92-a6c4dae69d19",
        "trusted": true,
        "id": "CQP2swnIVWW8",
        "colab": {
          "base_uri": "https://localhost:8080/"
        },
        "outputId": "f2ca6c05-d271-490f-8a3f-ab8dde498c88"
      },
      "execution_count": 16,
      "outputs": [
        {
          "output_type": "stream",
          "name": "stdout",
          "text": [
            "/kaggle/input/books-dataset/BooksDatasetClean.csv\n",
            "/kaggle/input/books-dataset/BooksDataset.csv\n"
          ]
        }
      ]
    },
    {
      "cell_type": "code",
      "source": [
        "df = pd.read_csv(\"/kaggle/input/books-dataset/BooksDataset.csv\")\n",
        "df.info()"
      ],
      "metadata": {
        "colab": {
          "base_uri": "https://localhost:8080/"
        },
        "id": "hYcj7BKKxkht",
        "outputId": "fa0fb984-2127-48d6-fd00-b8bba05b0296"
      },
      "execution_count": 17,
      "outputs": [
        {
          "output_type": "stream",
          "name": "stdout",
          "text": [
            "<class 'pandas.core.frame.DataFrame'>\n",
            "RangeIndex: 103082 entries, 0 to 103081\n",
            "Data columns (total 7 columns):\n",
            " #   Column        Non-Null Count   Dtype \n",
            "---  ------        --------------   ----- \n",
            " 0   Title         103082 non-null  object\n",
            " 1   Authors       103082 non-null  object\n",
            " 2   Description   70213 non-null   object\n",
            " 3   Category      76912 non-null   object\n",
            " 4   Publisher     103074 non-null  object\n",
            " 5   Publish Date  103082 non-null  object\n",
            " 6   Price         103082 non-null  object\n",
            "dtypes: object(7)\n",
            "memory usage: 5.5+ MB\n"
          ]
        }
      ]
    },
    {
      "cell_type": "code",
      "source": [
        "df.head()"
      ],
      "metadata": {
        "colab": {
          "base_uri": "https://localhost:8080/",
          "height": 380
        },
        "id": "-7XEUqaNxu7L",
        "outputId": "dc88403a-0874-4890-f664-3de7bcf19602"
      },
      "execution_count": 18,
      "outputs": [
        {
          "output_type": "execute_result",
          "data": {
            "text/plain": [
              "                                               Title  \\\n",
              "0                                      Goat Brothers   \n",
              "1                                 The Missing Person   \n",
              "2                  Don't Eat Your Heart Out Cookbook   \n",
              "3  When Your Corporate Umbrella Begins to Leak: A...   \n",
              "4    Amy Spangler's Breastfeeding : A Parent's Guide   \n",
              "\n",
              "                    Authors Description              Category  \\\n",
              "0          By Colton, Larry         NaN     History , General   \n",
              "1        By Grumbach, Doris         NaN     Fiction , General   \n",
              "2  By Piscatella, Joseph C.         NaN   Cooking , Reference   \n",
              "3         By Davis, Paul D.         NaN                   NaN   \n",
              "4          By Spangler, Amy         NaN                   NaN   \n",
              "\n",
              "          Publisher                 Publish Date                    Price  \n",
              "0         Doubleday      Friday, January 1, 1993  Price Starting at $8.79  \n",
              "1  Putnam Pub Group        Sunday, March 1, 1981  Price Starting at $4.99  \n",
              "2    Workman Pub Co  Thursday, September 1, 1983  Price Starting at $4.99  \n",
              "3     Natl Pr Books        Monday, April 1, 1991  Price Starting at $4.99  \n",
              "4      Amy Spangler   Saturday, February 1, 1997  Price Starting at $5.32  "
            ],
            "text/html": [
              "\n",
              "  <div id=\"df-396652e7-bc8d-46d7-b93f-e9c67f36c493\" class=\"colab-df-container\">\n",
              "    <div>\n",
              "<style scoped>\n",
              "    .dataframe tbody tr th:only-of-type {\n",
              "        vertical-align: middle;\n",
              "    }\n",
              "\n",
              "    .dataframe tbody tr th {\n",
              "        vertical-align: top;\n",
              "    }\n",
              "\n",
              "    .dataframe thead th {\n",
              "        text-align: right;\n",
              "    }\n",
              "</style>\n",
              "<table border=\"1\" class=\"dataframe\">\n",
              "  <thead>\n",
              "    <tr style=\"text-align: right;\">\n",
              "      <th></th>\n",
              "      <th>Title</th>\n",
              "      <th>Authors</th>\n",
              "      <th>Description</th>\n",
              "      <th>Category</th>\n",
              "      <th>Publisher</th>\n",
              "      <th>Publish Date</th>\n",
              "      <th>Price</th>\n",
              "    </tr>\n",
              "  </thead>\n",
              "  <tbody>\n",
              "    <tr>\n",
              "      <th>0</th>\n",
              "      <td>Goat Brothers</td>\n",
              "      <td>By Colton, Larry</td>\n",
              "      <td>NaN</td>\n",
              "      <td>History , General</td>\n",
              "      <td>Doubleday</td>\n",
              "      <td>Friday, January 1, 1993</td>\n",
              "      <td>Price Starting at $8.79</td>\n",
              "    </tr>\n",
              "    <tr>\n",
              "      <th>1</th>\n",
              "      <td>The Missing Person</td>\n",
              "      <td>By Grumbach, Doris</td>\n",
              "      <td>NaN</td>\n",
              "      <td>Fiction , General</td>\n",
              "      <td>Putnam Pub Group</td>\n",
              "      <td>Sunday, March 1, 1981</td>\n",
              "      <td>Price Starting at $4.99</td>\n",
              "    </tr>\n",
              "    <tr>\n",
              "      <th>2</th>\n",
              "      <td>Don't Eat Your Heart Out Cookbook</td>\n",
              "      <td>By Piscatella, Joseph C.</td>\n",
              "      <td>NaN</td>\n",
              "      <td>Cooking , Reference</td>\n",
              "      <td>Workman Pub Co</td>\n",
              "      <td>Thursday, September 1, 1983</td>\n",
              "      <td>Price Starting at $4.99</td>\n",
              "    </tr>\n",
              "    <tr>\n",
              "      <th>3</th>\n",
              "      <td>When Your Corporate Umbrella Begins to Leak: A...</td>\n",
              "      <td>By Davis, Paul D.</td>\n",
              "      <td>NaN</td>\n",
              "      <td>NaN</td>\n",
              "      <td>Natl Pr Books</td>\n",
              "      <td>Monday, April 1, 1991</td>\n",
              "      <td>Price Starting at $4.99</td>\n",
              "    </tr>\n",
              "    <tr>\n",
              "      <th>4</th>\n",
              "      <td>Amy Spangler's Breastfeeding : A Parent's Guide</td>\n",
              "      <td>By Spangler, Amy</td>\n",
              "      <td>NaN</td>\n",
              "      <td>NaN</td>\n",
              "      <td>Amy Spangler</td>\n",
              "      <td>Saturday, February 1, 1997</td>\n",
              "      <td>Price Starting at $5.32</td>\n",
              "    </tr>\n",
              "  </tbody>\n",
              "</table>\n",
              "</div>\n",
              "    <div class=\"colab-df-buttons\">\n",
              "\n",
              "  <div class=\"colab-df-container\">\n",
              "    <button class=\"colab-df-convert\" onclick=\"convertToInteractive('df-396652e7-bc8d-46d7-b93f-e9c67f36c493')\"\n",
              "            title=\"Convert this dataframe to an interactive table.\"\n",
              "            style=\"display:none;\">\n",
              "\n",
              "  <svg xmlns=\"http://www.w3.org/2000/svg\" height=\"24px\" viewBox=\"0 -960 960 960\">\n",
              "    <path d=\"M120-120v-720h720v720H120Zm60-500h600v-160H180v160Zm220 220h160v-160H400v160Zm0 220h160v-160H400v160ZM180-400h160v-160H180v160Zm440 0h160v-160H620v160ZM180-180h160v-160H180v160Zm440 0h160v-160H620v160Z\"/>\n",
              "  </svg>\n",
              "    </button>\n",
              "\n",
              "  <style>\n",
              "    .colab-df-container {\n",
              "      display:flex;\n",
              "      gap: 12px;\n",
              "    }\n",
              "\n",
              "    .colab-df-convert {\n",
              "      background-color: #E8F0FE;\n",
              "      border: none;\n",
              "      border-radius: 50%;\n",
              "      cursor: pointer;\n",
              "      display: none;\n",
              "      fill: #1967D2;\n",
              "      height: 32px;\n",
              "      padding: 0 0 0 0;\n",
              "      width: 32px;\n",
              "    }\n",
              "\n",
              "    .colab-df-convert:hover {\n",
              "      background-color: #E2EBFA;\n",
              "      box-shadow: 0px 1px 2px rgba(60, 64, 67, 0.3), 0px 1px 3px 1px rgba(60, 64, 67, 0.15);\n",
              "      fill: #174EA6;\n",
              "    }\n",
              "\n",
              "    .colab-df-buttons div {\n",
              "      margin-bottom: 4px;\n",
              "    }\n",
              "\n",
              "    [theme=dark] .colab-df-convert {\n",
              "      background-color: #3B4455;\n",
              "      fill: #D2E3FC;\n",
              "    }\n",
              "\n",
              "    [theme=dark] .colab-df-convert:hover {\n",
              "      background-color: #434B5C;\n",
              "      box-shadow: 0px 1px 3px 1px rgba(0, 0, 0, 0.15);\n",
              "      filter: drop-shadow(0px 1px 2px rgba(0, 0, 0, 0.3));\n",
              "      fill: #FFFFFF;\n",
              "    }\n",
              "  </style>\n",
              "\n",
              "    <script>\n",
              "      const buttonEl =\n",
              "        document.querySelector('#df-396652e7-bc8d-46d7-b93f-e9c67f36c493 button.colab-df-convert');\n",
              "      buttonEl.style.display =\n",
              "        google.colab.kernel.accessAllowed ? 'block' : 'none';\n",
              "\n",
              "      async function convertToInteractive(key) {\n",
              "        const element = document.querySelector('#df-396652e7-bc8d-46d7-b93f-e9c67f36c493');\n",
              "        const dataTable =\n",
              "          await google.colab.kernel.invokeFunction('convertToInteractive',\n",
              "                                                    [key], {});\n",
              "        if (!dataTable) return;\n",
              "\n",
              "        const docLinkHtml = 'Like what you see? Visit the ' +\n",
              "          '<a target=\"_blank\" href=https://colab.research.google.com/notebooks/data_table.ipynb>data table notebook</a>'\n",
              "          + ' to learn more about interactive tables.';\n",
              "        element.innerHTML = '';\n",
              "        dataTable['output_type'] = 'display_data';\n",
              "        await google.colab.output.renderOutput(dataTable, element);\n",
              "        const docLink = document.createElement('div');\n",
              "        docLink.innerHTML = docLinkHtml;\n",
              "        element.appendChild(docLink);\n",
              "      }\n",
              "    </script>\n",
              "  </div>\n",
              "\n",
              "\n",
              "<div id=\"df-d3d0ce82-3083-4c30-9e15-f488984298d3\">\n",
              "  <button class=\"colab-df-quickchart\" onclick=\"quickchart('df-d3d0ce82-3083-4c30-9e15-f488984298d3')\"\n",
              "            title=\"Suggest charts\"\n",
              "            style=\"display:none;\">\n",
              "\n",
              "<svg xmlns=\"http://www.w3.org/2000/svg\" height=\"24px\"viewBox=\"0 0 24 24\"\n",
              "     width=\"24px\">\n",
              "    <g>\n",
              "        <path d=\"M19 3H5c-1.1 0-2 .9-2 2v14c0 1.1.9 2 2 2h14c1.1 0 2-.9 2-2V5c0-1.1-.9-2-2-2zM9 17H7v-7h2v7zm4 0h-2V7h2v10zm4 0h-2v-4h2v4z\"/>\n",
              "    </g>\n",
              "</svg>\n",
              "  </button>\n",
              "\n",
              "<style>\n",
              "  .colab-df-quickchart {\n",
              "      --bg-color: #E8F0FE;\n",
              "      --fill-color: #1967D2;\n",
              "      --hover-bg-color: #E2EBFA;\n",
              "      --hover-fill-color: #174EA6;\n",
              "      --disabled-fill-color: #AAA;\n",
              "      --disabled-bg-color: #DDD;\n",
              "  }\n",
              "\n",
              "  [theme=dark] .colab-df-quickchart {\n",
              "      --bg-color: #3B4455;\n",
              "      --fill-color: #D2E3FC;\n",
              "      --hover-bg-color: #434B5C;\n",
              "      --hover-fill-color: #FFFFFF;\n",
              "      --disabled-bg-color: #3B4455;\n",
              "      --disabled-fill-color: #666;\n",
              "  }\n",
              "\n",
              "  .colab-df-quickchart {\n",
              "    background-color: var(--bg-color);\n",
              "    border: none;\n",
              "    border-radius: 50%;\n",
              "    cursor: pointer;\n",
              "    display: none;\n",
              "    fill: var(--fill-color);\n",
              "    height: 32px;\n",
              "    padding: 0;\n",
              "    width: 32px;\n",
              "  }\n",
              "\n",
              "  .colab-df-quickchart:hover {\n",
              "    background-color: var(--hover-bg-color);\n",
              "    box-shadow: 0 1px 2px rgba(60, 64, 67, 0.3), 0 1px 3px 1px rgba(60, 64, 67, 0.15);\n",
              "    fill: var(--button-hover-fill-color);\n",
              "  }\n",
              "\n",
              "  .colab-df-quickchart-complete:disabled,\n",
              "  .colab-df-quickchart-complete:disabled:hover {\n",
              "    background-color: var(--disabled-bg-color);\n",
              "    fill: var(--disabled-fill-color);\n",
              "    box-shadow: none;\n",
              "  }\n",
              "\n",
              "  .colab-df-spinner {\n",
              "    border: 2px solid var(--fill-color);\n",
              "    border-color: transparent;\n",
              "    border-bottom-color: var(--fill-color);\n",
              "    animation:\n",
              "      spin 1s steps(1) infinite;\n",
              "  }\n",
              "\n",
              "  @keyframes spin {\n",
              "    0% {\n",
              "      border-color: transparent;\n",
              "      border-bottom-color: var(--fill-color);\n",
              "      border-left-color: var(--fill-color);\n",
              "    }\n",
              "    20% {\n",
              "      border-color: transparent;\n",
              "      border-left-color: var(--fill-color);\n",
              "      border-top-color: var(--fill-color);\n",
              "    }\n",
              "    30% {\n",
              "      border-color: transparent;\n",
              "      border-left-color: var(--fill-color);\n",
              "      border-top-color: var(--fill-color);\n",
              "      border-right-color: var(--fill-color);\n",
              "    }\n",
              "    40% {\n",
              "      border-color: transparent;\n",
              "      border-right-color: var(--fill-color);\n",
              "      border-top-color: var(--fill-color);\n",
              "    }\n",
              "    60% {\n",
              "      border-color: transparent;\n",
              "      border-right-color: var(--fill-color);\n",
              "    }\n",
              "    80% {\n",
              "      border-color: transparent;\n",
              "      border-right-color: var(--fill-color);\n",
              "      border-bottom-color: var(--fill-color);\n",
              "    }\n",
              "    90% {\n",
              "      border-color: transparent;\n",
              "      border-bottom-color: var(--fill-color);\n",
              "    }\n",
              "  }\n",
              "</style>\n",
              "\n",
              "  <script>\n",
              "    async function quickchart(key) {\n",
              "      const quickchartButtonEl =\n",
              "        document.querySelector('#' + key + ' button');\n",
              "      quickchartButtonEl.disabled = true;  // To prevent multiple clicks.\n",
              "      quickchartButtonEl.classList.add('colab-df-spinner');\n",
              "      try {\n",
              "        const charts = await google.colab.kernel.invokeFunction(\n",
              "            'suggestCharts', [key], {});\n",
              "      } catch (error) {\n",
              "        console.error('Error during call to suggestCharts:', error);\n",
              "      }\n",
              "      quickchartButtonEl.classList.remove('colab-df-spinner');\n",
              "      quickchartButtonEl.classList.add('colab-df-quickchart-complete');\n",
              "    }\n",
              "    (() => {\n",
              "      let quickchartButtonEl =\n",
              "        document.querySelector('#df-d3d0ce82-3083-4c30-9e15-f488984298d3 button');\n",
              "      quickchartButtonEl.style.display =\n",
              "        google.colab.kernel.accessAllowed ? 'block' : 'none';\n",
              "    })();\n",
              "  </script>\n",
              "</div>\n",
              "\n",
              "    </div>\n",
              "  </div>\n"
            ],
            "application/vnd.google.colaboratory.intrinsic+json": {
              "type": "dataframe",
              "variable_name": "df"
            }
          },
          "metadata": {},
          "execution_count": 18
        }
      ]
    },
    {
      "cell_type": "code",
      "source": [
        "df.columns"
      ],
      "metadata": {
        "colab": {
          "base_uri": "https://localhost:8080/"
        },
        "id": "eKp8g6xfxxe6",
        "outputId": "ea1234dc-561d-4d1c-9d66-1fdd392a78e0"
      },
      "execution_count": 19,
      "outputs": [
        {
          "output_type": "execute_result",
          "data": {
            "text/plain": [
              "Index(['Title', 'Authors', 'Description', 'Category', 'Publisher',\n",
              "       'Publish Date', 'Price'],\n",
              "      dtype='object')"
            ]
          },
          "metadata": {},
          "execution_count": 19
        }
      ]
    },
    {
      "cell_type": "code",
      "source": [
        "df.isnull().sum()            # Check if there is null objects on dataset"
      ],
      "metadata": {
        "colab": {
          "base_uri": "https://localhost:8080/",
          "height": 304
        },
        "id": "0gdCwvf5xx7c",
        "outputId": "8a5241a5-1d88-47b2-ac25-2cd4906e1e9d"
      },
      "execution_count": 20,
      "outputs": [
        {
          "output_type": "execute_result",
          "data": {
            "text/plain": [
              "Title               0\n",
              "Authors             0\n",
              "Description     32869\n",
              "Category        26170\n",
              "Publisher           8\n",
              "Publish Date        0\n",
              "Price               0\n",
              "dtype: int64"
            ],
            "text/html": [
              "<div>\n",
              "<style scoped>\n",
              "    .dataframe tbody tr th:only-of-type {\n",
              "        vertical-align: middle;\n",
              "    }\n",
              "\n",
              "    .dataframe tbody tr th {\n",
              "        vertical-align: top;\n",
              "    }\n",
              "\n",
              "    .dataframe thead th {\n",
              "        text-align: right;\n",
              "    }\n",
              "</style>\n",
              "<table border=\"1\" class=\"dataframe\">\n",
              "  <thead>\n",
              "    <tr style=\"text-align: right;\">\n",
              "      <th></th>\n",
              "      <th>0</th>\n",
              "    </tr>\n",
              "  </thead>\n",
              "  <tbody>\n",
              "    <tr>\n",
              "      <th>Title</th>\n",
              "      <td>0</td>\n",
              "    </tr>\n",
              "    <tr>\n",
              "      <th>Authors</th>\n",
              "      <td>0</td>\n",
              "    </tr>\n",
              "    <tr>\n",
              "      <th>Description</th>\n",
              "      <td>32869</td>\n",
              "    </tr>\n",
              "    <tr>\n",
              "      <th>Category</th>\n",
              "      <td>26170</td>\n",
              "    </tr>\n",
              "    <tr>\n",
              "      <th>Publisher</th>\n",
              "      <td>8</td>\n",
              "    </tr>\n",
              "    <tr>\n",
              "      <th>Publish Date</th>\n",
              "      <td>0</td>\n",
              "    </tr>\n",
              "    <tr>\n",
              "      <th>Price</th>\n",
              "      <td>0</td>\n",
              "    </tr>\n",
              "  </tbody>\n",
              "</table>\n",
              "</div><br><label><b>dtype:</b> int64</label>"
            ]
          },
          "metadata": {},
          "execution_count": 20
        }
      ]
    },
    {
      "cell_type": "code",
      "source": [
        "# Fill missing 'Description', 'Category', and 'Publisher' with 'Unknown'\n",
        "df['Description'].fillna('Unknown', inplace=True)\n",
        "df['Category'].fillna('Unknown', inplace=True)\n",
        "df['Publisher'].fillna('Unknown', inplace=True)"
      ],
      "metadata": {
        "id": "ZsENBpkvyHQG"
      },
      "execution_count": 21,
      "outputs": []
    },
    {
      "cell_type": "code",
      "source": [
        "df.isnull().sum()"
      ],
      "metadata": {
        "colab": {
          "base_uri": "https://localhost:8080/",
          "height": 304
        },
        "id": "pvCWXzf1yLn9",
        "outputId": "b1ce4669-79ae-407a-b9e3-1320d80eca47"
      },
      "execution_count": 22,
      "outputs": [
        {
          "output_type": "execute_result",
          "data": {
            "text/plain": [
              "Title           0\n",
              "Authors         0\n",
              "Description     0\n",
              "Category        0\n",
              "Publisher       0\n",
              "Publish Date    0\n",
              "Price           0\n",
              "dtype: int64"
            ],
            "text/html": [
              "<div>\n",
              "<style scoped>\n",
              "    .dataframe tbody tr th:only-of-type {\n",
              "        vertical-align: middle;\n",
              "    }\n",
              "\n",
              "    .dataframe tbody tr th {\n",
              "        vertical-align: top;\n",
              "    }\n",
              "\n",
              "    .dataframe thead th {\n",
              "        text-align: right;\n",
              "    }\n",
              "</style>\n",
              "<table border=\"1\" class=\"dataframe\">\n",
              "  <thead>\n",
              "    <tr style=\"text-align: right;\">\n",
              "      <th></th>\n",
              "      <th>0</th>\n",
              "    </tr>\n",
              "  </thead>\n",
              "  <tbody>\n",
              "    <tr>\n",
              "      <th>Title</th>\n",
              "      <td>0</td>\n",
              "    </tr>\n",
              "    <tr>\n",
              "      <th>Authors</th>\n",
              "      <td>0</td>\n",
              "    </tr>\n",
              "    <tr>\n",
              "      <th>Description</th>\n",
              "      <td>0</td>\n",
              "    </tr>\n",
              "    <tr>\n",
              "      <th>Category</th>\n",
              "      <td>0</td>\n",
              "    </tr>\n",
              "    <tr>\n",
              "      <th>Publisher</th>\n",
              "      <td>0</td>\n",
              "    </tr>\n",
              "    <tr>\n",
              "      <th>Publish Date</th>\n",
              "      <td>0</td>\n",
              "    </tr>\n",
              "    <tr>\n",
              "      <th>Price</th>\n",
              "      <td>0</td>\n",
              "    </tr>\n",
              "  </tbody>\n",
              "</table>\n",
              "</div><br><label><b>dtype:</b> int64</label>"
            ]
          },
          "metadata": {},
          "execution_count": 22
        }
      ]
    },
    {
      "cell_type": "markdown",
      "source": [
        "# Unsupervised Learning"
      ],
      "metadata": {
        "id": "ypQ0VBsSyOZf"
      }
    },
    {
      "cell_type": "markdown",
      "source": [
        "* Text descriptions of the books (like the 'Description' column) are converted into numerical form using a technique called TF-IDF (Term Frequency-Inverse Document Frequency). This creates numerical vectors that represent the importance of words in each description\n",
        "* Other features like price are directly numeric, so they can be used as it is."
      ],
      "metadata": {
        "id": "4BH50WOO3OIW"
      }
    },
    {
      "cell_type": "markdown",
      "source": [
        "* After have that the numeric features for each book:\n",
        "    * Apply K-Means to group the books  into clusters\n",
        "    * Assign each book a cluster number\n",
        "\n"
      ],
      "metadata": {
        "id": "G6K3-GNE3b_V"
      }
    },
    {
      "cell_type": "code",
      "source": [
        "from sklearn.preprocessing import LabelEncoder\n",
        "from sklearn.feature_extraction.text import TfidfVectorizer\n",
        "import pandas as pd\n",
        "from sklearn.cluster import KMeans\n",
        "\n",
        "# Encode categorical features\n",
        "label_encoders = {}\n",
        "for column in ['Authors', 'Category', 'Publisher']:\n",
        "    label_encoders[column] = LabelEncoder()\n",
        "    df[column] = label_encoders[column].fit_transform(df[column])\n",
        "\n",
        "# Extract numeric part of Price (assuming 'Price Starting at $5.29' format)\n",
        "# df['Price'] = df['Price'].str.extract(r'(\\d+\\.\\d+)').astype(float)\n",
        "\n",
        "# Convert 'Description' text to TF-IDF vectors\n",
        "tfidf = TfidfVectorizer(stop_words='english', max_features=1000)\n",
        "description_vectors = tfidf.fit_transform(df['Description'].fillna(''))\n",
        "\n",
        "# Combine features like price, category (use one-hot encoding)\n",
        "features = pd.concat([pd.DataFrame(description_vectors.toarray()), df[['Price']].fillna(0)], axis=1)\n",
        "\n",
        "# Ensure all column names are strings\n",
        "features.columns = features.columns.astype(str)\n",
        "\n",
        "# Apply K-Means clustering\n",
        "kmeans = KMeans(n_clusters=5)\n",
        "clusters = kmeans.fit_predict(features)\n",
        "\n",
        "# Add clusters to the DataFrame\n",
        "df['Cluster'] = clusters\n",
        "\n",
        "# Print cluster assignment\n",
        "print(df[['Title', 'Cluster']].head())"
      ],
      "metadata": {
        "colab": {
          "base_uri": "https://localhost:8080/"
        },
        "id": "nF3XYh6yzK8V",
        "outputId": "3b5cf953-47b6-4c54-e0bd-718faf4f7f19"
      },
      "execution_count": 27,
      "outputs": [
        {
          "output_type": "stream",
          "name": "stderr",
          "text": [
            "/usr/local/lib/python3.10/dist-packages/sklearn/cluster/_kmeans.py:1416: FutureWarning: The default value of `n_init` will change from 10 to 'auto' in 1.4. Set the value of `n_init` explicitly to suppress the warning\n",
            "  super()._check_params_vs_input(X, default_n_init=10)\n"
          ]
        },
        {
          "output_type": "stream",
          "name": "stdout",
          "text": [
            "                                               Title  Cluster\n",
            "0                                      Goat Brothers        0\n",
            "1                                 The Missing Person        0\n",
            "2                  Don't Eat Your Heart Out Cookbook        0\n",
            "3  When Your Corporate Umbrella Begins to Leak: A...        0\n",
            "4    Amy Spangler's Breastfeeding : A Parent's Guide        0\n"
          ]
        }
      ]
    },
    {
      "cell_type": "markdown",
      "source": [
        "### PCA(Principal Component Analysis)"
      ],
      "metadata": {
        "id": "O-sKJDO-yvE5"
      }
    },
    {
      "cell_type": "code",
      "source": [
        "from sklearn.decomposition import PCA        # It helps reduce the data to 2D\n",
        "import matplotlib.pyplot as plt\n",
        "\n",
        "# Apply PCA to reduce the features to 2 dimensions\n",
        "pca = PCA(n_components=2)\n",
        "reduced_features = pca.fit_transform(features)\n",
        "# fit_transform(features) applies the PCA transformation to features dataset\n",
        "\n",
        "# Plot the PCA-reduced features\n",
        "plt.scatter(reduced_features[:, 0], reduced_features[:, 1], c=clusters, cmap='viridis') # cmap adds a color map\n",
        "plt.title('K-Means Clustering with PCA')\n",
        "plt.xlabel('PCA Component 1')\n",
        "plt.ylabel('PCA Component 2')\n",
        "plt.colorbar(label='Cluster')\n",
        "plt.show()"
      ],
      "metadata": {
        "colab": {
          "base_uri": "https://localhost:8080/",
          "height": 472
        },
        "id": "MDOSX0R2yuO-",
        "outputId": "75bcb269-60c9-4c1f-df37-f22fa3ba95fa"
      },
      "execution_count": 30,
      "outputs": [
        {
          "output_type": "display_data",
          "data": {
            "text/plain": [
              "<Figure size 640x480 with 2 Axes>"
            ],
            "image/png": "[encoded data removed]"
          },
          "metadata": {}
        }
      ]
    },
    {
      "cell_type": "markdown",
      "source": [
        "### Deduction\n",
        "* Each point represent a book\n",
        "* The position of the points is bassed on their transformed features(after PCA)\n",
        "* The color of the points shows which cluter each book belongs to\n",
        "* Points close to each other in the plot are more similar, while points far apart (like those near 800 on the x-axis) are likely outliers or belong to a different group of books based on the features you selected."
      ],
      "metadata": {
        "id": "8qhTbkjc6QpO"
      }
    },
    {
      "cell_type": "markdown",
      "source": [
        "# Improvement"
      ],
      "metadata": {
        "id": "iDEmTD8Z8OnF"
      }
    },
    {
      "cell_type": "code",
      "source": [
        "# Group by cluster and check the number of books in each cluster\n",
        "cluster_groups = df.groupby('Cluster')\n",
        "print(cluster_groups.size())\n",
        "\n",
        "# Example: View the first few books in Cluster 0\n",
        "cluster_0_books = df[df['Cluster'] == 0]\n",
        "print(cluster_0_books[['Title', 'Authors', 'Category', 'Price']].head())"
      ],
      "metadata": {
        "colab": {
          "base_uri": "https://localhost:8080/"
        },
        "id": "HcyAmztE8Mb_",
        "outputId": "80116424-1668-4a99-ba7a-e30f3b22f084"
      },
      "execution_count": 31,
      "outputs": [
        {
          "output_type": "stream",
          "name": "stdout",
          "text": [
            "Cluster\n",
            "0    90958\n",
            "1      161\n",
            "2        5\n",
            "3    11271\n",
            "4      687\n",
            "dtype: int64\n",
            "                                               Title  Authors  Category  Price\n",
            "0                                      Goat Brothers    11518      1038   8.79\n",
            "1                                 The Missing Person    23169       758   4.99\n",
            "2                  Don't Eat Your Heart Out Cookbook    45671       485   4.99\n",
            "3  When Your Corporate Umbrella Begins to Leak: A...    13798      3106   4.99\n",
            "4    Amy Spangler's Breastfeeding : A Parent's Guide    54159      3106   5.32\n"
          ]
        }
      ]
    },
    {
      "cell_type": "code",
      "source": [
        "# Compute the average price of books in each cluster\n",
        "avg_price_per_cluster = df.groupby('Cluster')['Price'].mean()\n",
        "print(avg_price_per_cluster)\n",
        "\n",
        "# View the most common categories in each cluster\n",
        "common_categories_per_cluster = df.groupby('Cluster')['Category'].apply(lambda x: x.value_counts().head(3))\n",
        "print(common_categories_per_cluster)"
      ],
      "metadata": {
        "colab": {
          "base_uri": "https://localhost:8080/"
        },
        "id": "hEOrh2bJ8axb",
        "outputId": "3ac8d9b2-630d-4374-f8a2-e5804cb3a9bb"
      },
      "execution_count": 32,
      "outputs": [
        {
          "output_type": "stream",
          "name": "stdout",
          "text": [
            "Cluster\n",
            "0      5.479300\n",
            "1    141.395466\n",
            "2    635.076000\n",
            "3     12.861532\n",
            "4     41.240087\n",
            "Name: Price, dtype: float64\n",
            "Cluster      \n",
            "0        3106    21112\n",
            "         758      2280\n",
            "         774      1608\n",
            "1        3106       70\n",
            "         835         5\n",
            "         758         5\n",
            "2        3106        4\n",
            "         2102        1\n",
            "3        3106     4542\n",
            "         758       244\n",
            "         780       220\n",
            "4        3106      442\n",
            "         758        20\n",
            "         780        18\n",
            "Name: Category, dtype: int64\n"
          ]
        }
      ]
    }
  ]
}